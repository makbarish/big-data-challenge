{
  "nbformat": 4,
  "nbformat_minor": 0,
  "metadata": {
    "colab": {
      "name": "Level2_Softwares&PHCs.ipynb",
      "provenance": [],
      "collapsed_sections": [],
      "include_colab_link": true
    },
    "kernelspec": {
      "name": "python3",
      "display_name": "Python 3"
    },
    "language_info": {
      "name": "python"
    }
  },
  "cells": [
    {
      "cell_type": "markdown",
      "metadata": {
        "id": "view-in-github",
        "colab_type": "text"
      },
      "source": [
        "<a href=\"https://colab.research.google.com/github/makbarish/big-data-challenge/blob/main/Level2_Softwares%26PHCs.ipynb\" target=\"_parent\"><img src=\"https://colab.research.google.com/assets/colab-badge.svg\" alt=\"Open In Colab\"/></a>"
      ]
    },
    {
      "cell_type": "code",
      "metadata": {
        "colab": {
          "base_uri": "https://localhost:8080/"
        },
        "id": "CxXjxkWUOPn-",
        "outputId": "3d5e8c65-dea8-4ccc-d367-d5a2f33c982c"
      },
      "source": [
        "import os\n",
        "# Find the latest version of spark 3.0  from http://www.apache.org/dist/spark/ and enter as the spark version\n",
        "# For example:\n",
        "# spark_version = 'spark-3.0.3'\n",
        "spark_version = 'spark-3.1.2'\n",
        "os.environ['SPARK_VERSION']=spark_version\n",
        "\n",
        "# Install Spark and Java\n",
        "!apt-get update\n",
        "!apt-get install openjdk-8-jdk-headless -qq > /dev/null\n",
        "!wget -q http://www.apache.org/dist/spark/$SPARK_VERSION/$SPARK_VERSION-bin-hadoop2.7.tgz\n",
        "!tar xf $SPARK_VERSION-bin-hadoop2.7.tgz\n",
        "!pip install -q findspark\n",
        "\n",
        "# Set Environment Variables\n",
        "import os\n",
        "os.environ[\"JAVA_HOME\"] = \"/usr/lib/jvm/java-8-openjdk-amd64\"\n",
        "os.environ[\"SPARK_HOME\"] = f\"/content/{spark_version}-bin-hadoop2.7\"\n",
        "\n",
        "# Start a SparkSession\n",
        "import findspark\n",
        "findspark.init()"
      ],
      "execution_count": 30,
      "outputs": [
        {
          "output_type": "stream",
          "name": "stdout",
          "text": [
            "\r0% [Working]\r            \rGet:1 http://security.ubuntu.com/ubuntu bionic-security InRelease [88.7 kB]\n",
            "\r0% [Connecting to archive.ubuntu.com (91.189.88.152)] [1 InRelease 14.2 kB/88.7\r                                                                               \rIgn:2 https://developer.download.nvidia.com/compute/cuda/repos/ubuntu1804/x86_64  InRelease\n",
            "\r0% [Connecting to archive.ubuntu.com (91.189.88.152)] [1 InRelease 69.2 kB/88.7\r                                                                               \rHit:3 https://cloud.r-project.org/bin/linux/ubuntu bionic-cran40/ InRelease\n",
            "\r0% [Waiting for headers] [1 InRelease 88.7 kB/88.7 kB 100%] [Waiting for header\r                                                                               \r0% [Waiting for headers] [Waiting for headers] [Waiting for headers]\r0% [3 InRelease gpgv 3,626 B] [Waiting for headers] [Waiting for headers] [Wait\r                                                                               \rHit:4 http://ppa.launchpad.net/c2d4u.team/c2d4u4.0+/ubuntu bionic InRelease\n",
            "\r0% [3 InRelease gpgv 3,626 B] [Waiting for headers] [Connecting to ppa.launchpa\r                                                                               \rIgn:5 https://developer.download.nvidia.com/compute/machine-learning/repos/ubuntu1804/x86_64  InRelease\n",
            "\r0% [3 InRelease gpgv 3,626 B] [Waiting for headers] [Connecting to ppa.launchpa\r                                                                               \rHit:6 https://developer.download.nvidia.com/compute/cuda/repos/ubuntu1804/x86_64  Release\n",
            "\r0% [3 InRelease gpgv 3,626 B] [Waiting for headers] [Connecting to ppa.launchpa\r                                                                               \rHit:7 https://developer.download.nvidia.com/compute/machine-learning/repos/ubuntu1804/x86_64  Release\n",
            "Hit:8 http://archive.ubuntu.com/ubuntu bionic InRelease\n",
            "Get:9 http://archive.ubuntu.com/ubuntu bionic-updates InRelease [88.7 kB]\n",
            "Hit:10 http://ppa.launchpad.net/cran/libgit2/ubuntu bionic InRelease\n",
            "Hit:11 http://ppa.launchpad.net/deadsnakes/ppa/ubuntu bionic InRelease\n",
            "Get:12 http://archive.ubuntu.com/ubuntu bionic-backports InRelease [74.6 kB]\n",
            "Hit:13 http://ppa.launchpad.net/graphics-drivers/ppa/ubuntu bionic InRelease\n",
            "Fetched 252 kB in 2s (116 kB/s)\n",
            "Reading package lists... Done\n"
          ]
        }
      ]
    },
    {
      "cell_type": "code",
      "metadata": {
        "colab": {
          "base_uri": "https://localhost:8080/"
        },
        "id": "qavJksgnOZuV",
        "outputId": "17784ec1-dfb9-477e-b6c0-133655396626"
      },
      "source": [
        "!wget https://jdbc.postgresql.org/download/postgresql-42.2.9.jar"
      ],
      "execution_count": 31,
      "outputs": [
        {
          "output_type": "stream",
          "name": "stdout",
          "text": [
            "--2021-10-03 01:52:48--  https://jdbc.postgresql.org/download/postgresql-42.2.9.jar\n",
            "Resolving jdbc.postgresql.org (jdbc.postgresql.org)... 72.32.157.228, 2001:4800:3e1:1::228\n",
            "Connecting to jdbc.postgresql.org (jdbc.postgresql.org)|72.32.157.228|:443... connected.\n",
            "HTTP request sent, awaiting response... 200 OK\n",
            "Length: 914037 (893K) [application/java-archive]\n",
            "Saving to: ‘postgresql-42.2.9.jar.1’\n",
            "\n",
            "postgresql-42.2.9.j 100%[===================>] 892.61K  --.-KB/s    in 0.08s   \n",
            "\n",
            "2021-10-03 01:52:48 (10.7 MB/s) - ‘postgresql-42.2.9.jar.1’ saved [914037/914037]\n",
            "\n"
          ]
        }
      ]
    },
    {
      "cell_type": "code",
      "metadata": {
        "id": "2njR-jrwQKMl"
      },
      "source": [
        "from pyspark.sql import SparkSession\n",
        "spark = SparkSession.builder.appName(\"CloudETL\").config(\"spark.driver.extraClassPath\",\"/content/postgresql-42.2.9.jar\").getOrCreate()"
      ],
      "execution_count": 32,
      "outputs": []
    },
    {
      "cell_type": "code",
      "metadata": {
        "colab": {
          "base_uri": "https://localhost:8080/"
        },
        "id": "wVYXXAmLQ-Ic",
        "outputId": "52c98e5e-3d00-4f79-c550-0a16d2f519ff"
      },
      "source": [
        "# Read in data from S3 Buckets\n",
        "from pyspark import SparkFiles\n",
        "url = \"https://s3.amazonaws.com/amazon-reviews-pds/tsv/amazon_reviews_us_Software_v1_00.tsv.gz\"\n",
        "spark.sparkContext.addFile(url)\n",
        "softwares_df = spark.read.csv(SparkFiles.get(\"amazon_reviews_us_Software_v1_00.tsv.gz\"), sep=\"\\t\", header=True)\n",
        "\n",
        "# Show DataFrame\n",
        "softwares_df.show(10)"
      ],
      "execution_count": 33,
      "outputs": [
        {
          "output_type": "stream",
          "name": "stdout",
          "text": [
            "+-----------+-----------+--------------+----------+--------------+--------------------+----------------+-----------+-------------+-----------+----+-----------------+--------------------+--------------------+-----------+\n",
            "|marketplace|customer_id|     review_id|product_id|product_parent|       product_title|product_category|star_rating|helpful_votes|total_votes|vine|verified_purchase|     review_headline|         review_body|review_date|\n",
            "+-----------+-----------+--------------+----------+--------------+--------------------+----------------+-----------+-------------+-----------+----+-----------------+--------------------+--------------------+-----------+\n",
            "|         US|   42605767|R3EFW2STIYIY0I|B00MUTIDKI|     248732228|McAfee 2015 Inter...|        Software|          1|            2|          2|   N|                Y|I was very disapp...|I was very disapp...| 2015-08-31|\n",
            "|         US|   51771800|R12NR0R5A9F7FT|B00EPACNUG|     531462352|Hallmark Card Stu...|        Software|          5|            0|          0|   N|                Y|          Five Stars|I had a little st...| 2015-08-31|\n",
            "|         US|   16053526|R1LSH74R9XAP59|B00164AZA4|     473982505| Search and Rescue 4|        Software|          2|            0|          1|   N|                Y|    Have windows 10?|Tried to download...| 2015-08-31|\n",
            "|         US|   15319481|R1QXUNTF76K7L6|B00E6LIEFM|     189774198|      Quickbooks Pro|        Software|          2|            0|          0|   N|                Y|Disc was corrupt,...|Disc was corrupt,...| 2015-08-31|\n",
            "|         US|    1441820|R2F7DR75PS8NKT|B00VWEBG06|     852470365|Windows 7 Profess...|        Software|          5|            0|          0|   N|                Y|          Five Stars|Just what I neede...| 2015-08-31|\n",
            "|         US|   37107850|R2C1DJSCC8UFS6|B00EP7AP7C|     279360628|Family Tree Maker...|        Software|          3|            0|          0|   N|                Y|         Three Stars|Didn't like havin...| 2015-08-31|\n",
            "|         US|     302120|R1AXGS1W4YFXMX|B00OW2PET4|     729971168|World of Farming:...|        Software|          1|            0|          2|   N|                Y|            One Star|it does not work ...| 2015-08-31|\n",
            "|         US|   20193077|R1XU1B93402SYJ|B00N4OLCRO|     776572654|Photoshop Element...|        Software|          1|            1|          1|   N|                Y|Can't load to my ...|I have tried for ...| 2015-08-31|\n",
            "|         US|   13106017|R2U432NB3OPVR0|B005CELN8W|     222071424|Phantom EFX WMS S...|        Software|          5|            0|          0|   N|                Y|          Five Stars|       love the game| 2015-08-31|\n",
            "|         US|   32587108|R3R6FIMIOQ5SP9|B005CELL1G|     168801430|PaperPort Profess...|        Software|          5|            0|          0|   N|                Y|Meets our small b...|Great software. A...| 2015-08-31|\n",
            "+-----------+-----------+--------------+----------+--------------+--------------------+----------------+-----------+-------------+-----------+----+-----------------+--------------------+--------------------+-----------+\n",
            "only showing top 10 rows\n",
            "\n"
          ]
        }
      ]
    },
    {
      "cell_type": "code",
      "metadata": {
        "colab": {
          "base_uri": "https://localhost:8080/"
        },
        "id": "JBsi8vjXQSqr",
        "outputId": "d249dc81-b996-4907-ecef-b231a2fefbb4"
      },
      "source": [
        "# Read in data from S3 Buckets\n",
        "from pyspark import SparkFiles\n",
        "url = \"https://s3.amazonaws.com/amazon-reviews-pds/tsv/amazon_reviews_us_Health_Personal_Care_v1_00.tsv.gz\"\n",
        "spark.sparkContext.addFile(url)\n",
        "HPC_df = spark.read.csv(SparkFiles.get(\"amazon_reviews_us_Health_Personal_Care_v1_00.tsv.gz\"), sep=\"\\t\", header=True)\n",
        "\n",
        "# Show DataFrame\n",
        "HPC_df.show()"
      ],
      "execution_count": 34,
      "outputs": [
        {
          "output_type": "stream",
          "name": "stdout",
          "text": [
            "+-----------+-----------+--------------+----------+--------------+--------------------+--------------------+-----------+-------------+-----------+----+-----------------+--------------------+--------------------+-----------+\n",
            "|marketplace|customer_id|     review_id|product_id|product_parent|       product_title|    product_category|star_rating|helpful_votes|total_votes|vine|verified_purchase|     review_headline|         review_body|review_date|\n",
            "+-----------+-----------+--------------+----------+--------------+--------------------+--------------------+-----------+-------------+-----------+----+-----------------+--------------------+--------------------+-----------+\n",
            "|         US|     650634| R3EQSTM9PWRAL|B0091LBZSU|     578484426|Demograss Capsule...|Health & Personal...|          3|            0|          0|   N|                Y|         Three Stars|Only came with 30...| 2015-08-31|\n",
            "|         US|   19827510| RBWPRK17XKIXD|B00PWW3LQ6|     456433146|Viva Labs #1 Prem...|Health & Personal...|          5|            0|          0|   N|                Y|A good portable s...|Really yummy and ...| 2015-08-31|\n",
            "|         US|    1520474| RRSLOAF273XFC|B00DKEWA92|     460764511|     Whip-it Cleaner|Health & Personal...|          5|            1|          2|   N|                Y|       You need this|You cannot go wro...| 2015-08-31|\n",
            "|         US|   23905905|R3S8W9Q6SWIT8O|B0015R3A7M|     135102038|Optimum Nutrition...|Health & Personal...|          4|            0|          0|   N|                Y|this is a good vi...|This is a good da...| 2015-08-31|\n",
            "|         US|   28215779|R3QQ6NSLRVBFJC|B006B8U8BG|     200666829|Wet-Stop3 Bedwett...|Health & Personal...|          4|            0|          0|   N|                Y|progress is defin...|We have been usin...| 2015-08-31|\n",
            "|         US|   23260912|R2XYDBMHUVJCSX|B00PFZFD8Y|     344168617|NatraCure Plantar...|Health & Personal...|          2|            0|          1|   N|                Y|           Two Stars|I wear it a few t...| 2015-08-31|\n",
            "|         US|    7965616|R1L94ESVC657A9|B0034792JG|     291831570|Glade Sense & Spr...|Health & Personal...|          5|            0|          0|   N|                Y|          Five Stars|Love this product...| 2015-08-31|\n",
            "|         US|    3443178|R3DI4B8LDWFQ3K|B000052XIA|     493678550|Vagisil Anti-Itch...|Health & Personal...|          1|            3|          4|   N|                Y|It still is itchi...|It still is itchi...| 2015-08-31|\n",
            "|         US|   20838781|R1G7VV4HCXUQQL|B004GCUK8A|       3902598|Glade Automatic S...|Health & Personal...|          5|            0|          0|   N|                Y|          Five Stars|               Good!| 2015-08-31|\n",
            "|         US|   15267517|R3TTNYN1TAMUSU|B00K7W1QAO|     633971374|Kirkland Signatur...|Health & Personal...|          5|            0|          0|   N|                Y|      Will buy again|These bags are ma...| 2015-08-31|\n",
            "|         US|   30105089|R3AMX2D9HMWV6Z|B0034KYA36|     854858899|Zyrtec Prescripti...|Health & Personal...|          5|            0|          0|   N|                Y|         Good price!|Delivered product...| 2015-08-31|\n",
            "|         US|    1622207|R3PO3K321GY8HI|B00C7UZTT8|     264608272|Pure Garcinia Cam...|Health & Personal...|          1|            0|          0|   N|                Y|       Doesn't work.|So far I've felt ...| 2015-08-31|\n",
            "|         US|   29856075| RVQ0UNYX6IEVK|B005F9XFN0|     638667060|Now  Better Stevi...|Health & Personal...|          1|            0|          1|   N|                Y|           not quite|Not nearly as goo...| 2015-08-31|\n",
            "|         US|   52319463|R25E9NIGO2XQ3D|B00Q8YSPTU|     130354267|Now Foods Stevia ...|Health & Personal...|          5|            0|          0|   N|                Y|Reasonably priced...|Reasonably priced...| 2015-08-31|\n",
            "|         US|   16857013|R3GIEXIIIR2G9Y|B00N34HBVG|     700530604|Compression Thigh...|Health & Personal...|          1|            0|          0|   N|                Y|DO NOT BUY!!!! Ve...|They are sooooooo...| 2015-08-31|\n",
            "|         US|   12269680|R264BH3U417NXF|B002UN2UKS|     731161248|Brownmed SEAL-TIG...|Health & Personal...|          5|            0|          0|   N|                Y|Worked Great!! Ve...|Worked Great!!  V...| 2015-08-31|\n",
            "|         US|   29116955|R2C6S0XJIMP0Z2|B003265KYK|     719831457|Botanic Choice Gl...|Health & Personal...|          5|            0|          0|   N|                Y|          Five Stars|Great price, on t...| 2015-08-31|\n",
            "|         US|   14533949|R2LRJYGC2YYR2F|B00939J5T6|     377517622|Shibari SHIB-WHT ...|Health & Personal...|          2|            0|          0|   N|                Y|Cant handle long ...|Broke down after ...| 2015-08-31|\n",
            "|         US|   11274313|R3SVW9ZP1CZPW7|B00LJOQKRI|     376583016|Eyekepper 5-pack ...|Health & Personal...|          1|            0|          1|   N|                Y|            One Star|I think the presc...| 2015-08-31|\n",
            "|         US|   14861684|R1GLA6RQUF4Q79|B002TG3QPO|     813956658|Isopure Zero Carb...|Health & Personal...|          4|            0|          0|   N|                Y|          Four Stars|            Loved it| 2015-08-31|\n",
            "+-----------+-----------+--------------+----------+--------------+--------------------+--------------------+-----------+-------------+-----------+----+-----------------+--------------------+--------------------+-----------+\n",
            "only showing top 20 rows\n",
            "\n"
          ]
        }
      ]
    },
    {
      "cell_type": "code",
      "metadata": {
        "colab": {
          "base_uri": "https://localhost:8080/"
        },
        "id": "4UNbJI9JQyhb",
        "outputId": "65ebc221-d4a8-4961-8ff3-ba257cf3451e"
      },
      "source": [
        "#Amazon Softwares Vine Reviews\n",
        "from pyspark import SparkFiles\n",
        "vine_table_softwares = softwares_df.select([\"review_id\", \"star_rating\", \"helpful_votes\", \"total_votes\", \"vine\"])\n",
        "vine_table_softwares.show(5)"
      ],
      "execution_count": 35,
      "outputs": [
        {
          "output_type": "stream",
          "name": "stdout",
          "text": [
            "+--------------+-----------+-------------+-----------+----+\n",
            "|     review_id|star_rating|helpful_votes|total_votes|vine|\n",
            "+--------------+-----------+-------------+-----------+----+\n",
            "|R3EFW2STIYIY0I|          1|            2|          2|   N|\n",
            "|R12NR0R5A9F7FT|          5|            0|          0|   N|\n",
            "|R1LSH74R9XAP59|          2|            0|          1|   N|\n",
            "|R1QXUNTF76K7L6|          2|            0|          0|   N|\n",
            "|R2F7DR75PS8NKT|          5|            0|          0|   N|\n",
            "+--------------+-----------+-------------+-----------+----+\n",
            "only showing top 5 rows\n",
            "\n"
          ]
        }
      ]
    },
    {
      "cell_type": "code",
      "metadata": {
        "colab": {
          "base_uri": "https://localhost:8080/"
        },
        "id": "Fe6z3NzQR3Ss",
        "outputId": "43aab8b6-d42f-413e-ddce-4365df4128a1"
      },
      "source": [
        "#Amazon Health Personal Care's Vine Reviews\n",
        "from pyspark import SparkFiles\n",
        "vine_table_HPC = HPC_df.select([\"review_id\", \"star_rating\", \"helpful_votes\", \"total_votes\", \"vine\"])\n",
        "vine_table_HPC.show(5)"
      ],
      "execution_count": 36,
      "outputs": [
        {
          "output_type": "stream",
          "name": "stdout",
          "text": [
            "+--------------+-----------+-------------+-----------+----+\n",
            "|     review_id|star_rating|helpful_votes|total_votes|vine|\n",
            "+--------------+-----------+-------------+-----------+----+\n",
            "| R3EQSTM9PWRAL|          3|            0|          0|   N|\n",
            "| RBWPRK17XKIXD|          5|            0|          0|   N|\n",
            "| RRSLOAF273XFC|          5|            1|          2|   N|\n",
            "|R3S8W9Q6SWIT8O|          4|            0|          0|   N|\n",
            "|R3QQ6NSLRVBFJC|          4|            0|          0|   N|\n",
            "+--------------+-----------+-------------+-----------+----+\n",
            "only showing top 5 rows\n",
            "\n"
          ]
        }
      ]
    },
    {
      "cell_type": "markdown",
      "metadata": {
        "id": "igy0AD3OUrNa"
      },
      "source": [
        "Droping NA & Duplicates"
      ]
    },
    {
      "cell_type": "code",
      "metadata": {
        "colab": {
          "base_uri": "https://localhost:8080/"
        },
        "id": "C8O3NFMAUht-",
        "outputId": "333b924a-3b23-47e6-bd8f-85f80ed1a564"
      },
      "source": [
        "print(vine_table_softwares.count())\n",
        "vine_table_softwares = vine_table_softwares.dropna()\n",
        "vine_table_softwares = vine_table_softwares.na.drop()\n",
        "vine_table_softwares = vine_table_softwares.dropDuplicates()\n",
        "print(vine_table_softwares.count())"
      ],
      "execution_count": 37,
      "outputs": [
        {
          "output_type": "stream",
          "name": "stdout",
          "text": [
            "341931\n",
            "341931\n"
          ]
        }
      ]
    },
    {
      "cell_type": "code",
      "metadata": {
        "colab": {
          "base_uri": "https://localhost:8080/"
        },
        "id": "ImZBzNg6Uu8i",
        "outputId": "54465b6a-d3a1-49fd-91df-371917facf40"
      },
      "source": [
        "print(vine_table_HPC.count())\n",
        "vine_table_HPC = vine_table_HPC.dropna()\n",
        "vine_table_HPC = vine_table_HPC.na.drop()\n",
        "vine_table_HPC = vine_table_HPC.dropDuplicates()\n",
        "print(vine_table_HPC.count())"
      ],
      "execution_count": 38,
      "outputs": [
        {
          "output_type": "stream",
          "name": "stdout",
          "text": [
            "5331449\n",
            "5331215\n"
          ]
        }
      ]
    },
    {
      "cell_type": "code",
      "metadata": {
        "colab": {
          "base_uri": "https://localhost:8080/"
        },
        "id": "ofiXLXJnVYHr",
        "outputId": "1b527a2c-9433-4caa-c4e9-5025a571ed9c"
      },
      "source": [
        "#Softwares\n",
        "vine_table_softwares.describe().show()"
      ],
      "execution_count": 39,
      "outputs": [
        {
          "output_type": "stream",
          "name": "stdout",
          "text": [
            "+-------+--------------+------------------+------------------+------------------+------+\n",
            "|summary|     review_id|       star_rating|     helpful_votes|       total_votes|  vine|\n",
            "+-------+--------------+------------------+------------------+------------------+------+\n",
            "|  count|        341931|            341931|            341931|            341931|341931|\n",
            "|   mean|          null|3.5670354545215264| 4.362482489157169| 5.503203862767634|  null|\n",
            "| stddev|          null|1.6089364873873202|19.147154630924017|20.681602006116535|  null|\n",
            "|    min|R1000QJKXGZITK|                 1|                 0|                 0|     N|\n",
            "|    max| RZZZ6LR5CYS9O|                 5|                99|                99|     Y|\n",
            "+-------+--------------+------------------+------------------+------------------+------+\n",
            "\n"
          ]
        }
      ]
    },
    {
      "cell_type": "code",
      "metadata": {
        "colab": {
          "base_uri": "https://localhost:8080/"
        },
        "id": "UrYLh8oQVl5g",
        "outputId": "46989e09-9203-48fb-e053-de8caebbdbf5"
      },
      "source": [
        "# Health Personal Cares\n",
        "vine_table_HPC.describe().show()"
      ],
      "execution_count": 40,
      "outputs": [
        {
          "output_type": "stream",
          "name": "stdout",
          "text": [
            "+-------+--------------+------------------+------------------+------------------+-------+\n",
            "|summary|     review_id|       star_rating|     helpful_votes|       total_votes|   vine|\n",
            "+-------+--------------+------------------+------------------+------------------+-------+\n",
            "|  count|       5331215|           5331215|           5331215|           5331215|5331215|\n",
            "|   mean|          null| 4.161819210067499|2.3020221469214803|2.9970260062668643|   null|\n",
            "| stddev|          null|1.3241704571172515|22.013237763127364|23.645529677600788|   null|\n",
            "|    min|R10000VJGO8MCK|                 1|                 0|                 0|      N|\n",
            "|    max| RZZZZJURU8XGH|                 5|               998|               999|      Y|\n",
            "+-------+--------------+------------------+------------------+------------------+-------+\n",
            "\n"
          ]
        }
      ]
    },
    {
      "cell_type": "markdown",
      "metadata": {
        "id": "5dH13aUrW7LI"
      },
      "source": [
        "Average Star Rating for Vine Members vs Non Members\n",
        "\n"
      ]
    },
    {
      "cell_type": "code",
      "metadata": {
        "colab": {
          "base_uri": "https://localhost:8080/"
        },
        "id": "Y3OIxce62PJY",
        "outputId": "c0c563a6-455f-4111-c978-b37b2052251e"
      },
      "source": [
        "# Softwares\n",
        "from pyspark.sql.types import IntegerType\n",
        "from pyspark import SparkFiles\n",
        "vine_table_softwares = vine_table_softwares.withColumn(\"star_rating\", softwares_df[\"star_rating\"].cast(IntegerType()))\n",
        "vine_table_softwares.groupBy(\"vine\").avg(\"star_rating\").show(truncate=False)"
      ],
      "execution_count": 41,
      "outputs": [
        {
          "output_type": "stream",
          "name": "stdout",
          "text": [
            "+----+-----------------+\n",
            "|vine|avg(star_rating) |\n",
            "+----+-----------------+\n",
            "|Y   |3.839174267882861|\n",
            "|N   |3.558485864935629|\n",
            "+----+-----------------+\n",
            "\n"
          ]
        }
      ]
    },
    {
      "cell_type": "code",
      "metadata": {
        "id": "AY0p92E-W7kr",
        "colab": {
          "base_uri": "https://localhost:8080/"
        },
        "outputId": "b162a8a4-99e3-40d6-faff-1bc167d3910c"
      },
      "source": [
        "# Health Personal Care\n",
        "from pyspark.sql.types import IntegerType\n",
        "from pyspark import SparkFiles\n",
        "vine_table_HPC = vine_table_HPC.withColumn(\"star_rating\",HPC_df[\"star_rating\"].cast(IntegerType()))\n",
        "vine_table_HPC.groupBy(\"vine\").avg(\"star_rating\").show(truncate=False)"
      ],
      "execution_count": 42,
      "outputs": [
        {
          "output_type": "stream",
          "name": "stdout",
          "text": [
            "+----+-----------------+\n",
            "|vine|avg(star_rating) |\n",
            "+----+-----------------+\n",
            "|Y   |4.038031599325548|\n",
            "|N   |4.162567328698787|\n",
            "+----+-----------------+\n",
            "\n"
          ]
        }
      ]
    },
    {
      "cell_type": "markdown",
      "metadata": {
        "id": "clbvnrCbXdFU"
      },
      "source": [
        "Number of five stars reviews\n",
        "\n"
      ]
    },
    {
      "cell_type": "code",
      "metadata": {
        "id": "VJloYd1FXaQk",
        "colab": {
          "base_uri": "https://localhost:8080/"
        },
        "outputId": "46d563b2-9bfa-454b-fe4e-f26b1a64cd97"
      },
      "source": [
        "# Softwares\n",
        "from pyspark import SparkFiles\n",
        "from pyspark.sql.functions import avg, col, desc\n",
        "vine_table_softwares.groupBy(\"star_rating\", \"vine\").count().sort(col(\"star_rating\").desc()).show(truncate=False)"
      ],
      "execution_count": 43,
      "outputs": [
        {
          "output_type": "stream",
          "name": "stdout",
          "text": [
            "+-----------+----+------+\n",
            "|star_rating|vine|count |\n",
            "+-----------+----+------+\n",
            "|5          |N   |150566|\n",
            "|5          |Y   |3381  |\n",
            "|4          |N   |54894 |\n",
            "|4          |Y   |3755  |\n",
            "|3          |Y   |2006  |\n",
            "|3          |N   |28670 |\n",
            "|2          |N   |23893 |\n",
            "|2          |Y   |769   |\n",
            "|1          |N   |73493 |\n",
            "|1          |Y   |504   |\n",
            "+-----------+----+------+\n",
            "\n"
          ]
        }
      ]
    },
    {
      "cell_type": "code",
      "metadata": {
        "id": "H744ept2Xn2W",
        "colab": {
          "base_uri": "https://localhost:8080/"
        },
        "outputId": "96803648-0cd7-4db2-c2bf-381ded96014b"
      },
      "source": [
        "# Health Personal Care\n",
        "from pyspark import SparkFiles\n",
        "from pyspark.sql.functions import avg, col, desc\n",
        "vine_table_HPC.groupBy(\"star_rating\", \"vine\").count().sort(col(\"star_rating\").desc()).show(truncate=False)"
      ],
      "execution_count": 44,
      "outputs": [
        {
          "output_type": "stream",
          "name": "stdout",
          "text": [
            "+-----------+----+-------+\n",
            "|star_rating|vine|count  |\n",
            "+-----------+----+-------+\n",
            "|5          |N   |3344959|\n",
            "|5          |Y   |13127  |\n",
            "|4          |N   |770934 |\n",
            "|4          |Y   |10799  |\n",
            "|3          |Y   |5197   |\n",
            "|3          |N   |395214 |\n",
            "|2          |Y   |1997   |\n",
            "|2          |N   |275976 |\n",
            "|1          |N   |512106 |\n",
            "|1          |Y   |906    |\n",
            "+-----------+----+-------+\n",
            "\n"
          ]
        }
      ]
    },
    {
      "cell_type": "markdown",
      "metadata": {
        "id": "C9MopOokXxjI"
      },
      "source": [
        "Average Number of helpful votes for both Vine Members & Non Members\n",
        "\n"
      ]
    },
    {
      "cell_type": "code",
      "metadata": {
        "id": "RyVRead4XvSi",
        "colab": {
          "base_uri": "https://localhost:8080/"
        },
        "outputId": "db83f08d-8f58-49e5-c29a-671e4a88af0e"
      },
      "source": [
        "# Softwares\n",
        "from pyspark.sql.types import IntegerType\n",
        "from pyspark import SparkFiles\n",
        "vine_table_softwares = vine_table_softwares.withColumn(\"helpful_votes\",softwares_df[\"helpful_votes\"].cast(IntegerType()))\n",
        "vine_table_softwares.groupBy(\"vine\").avg(\"helpful_votes\").show(truncate=False)"
      ],
      "execution_count": 45,
      "outputs": [
        {
          "output_type": "stream",
          "name": "stdout",
          "text": [
            "+----+------------------+\n",
            "|vine|avg(helpful_votes)|\n",
            "+----+------------------+\n",
            "|Y   |3.1916466634661544|\n",
            "|N   |4.39926579712593  |\n",
            "+----+------------------+\n",
            "\n"
          ]
        }
      ]
    },
    {
      "cell_type": "code",
      "metadata": {
        "id": "H7gsaSNXYF1b",
        "colab": {
          "base_uri": "https://localhost:8080/"
        },
        "outputId": "d04ec3ab-d729-4468-b148-227cb3112122"
      },
      "source": [
        "# Health Personal Care\n",
        "from pyspark.sql.types import IntegerType\n",
        "from pyspark import SparkFiles\n",
        "vine_table_HPC = vine_table_HPC.withColumn(\"helpful_votes\",HPC_df[\"helpful_votes\"].cast(IntegerType()))\n",
        "vine_table_HPC.groupBy(\"vine\").avg(\"helpful_votes\").show(truncate=False)"
      ],
      "execution_count": 46,
      "outputs": [
        {
          "output_type": "stream",
          "name": "stdout",
          "text": [
            "+----+------------------+\n",
            "|vine|avg(helpful_votes)|\n",
            "+----+------------------+\n",
            "|Y   |2.0381877224754885|\n",
            "|N   |2.3036166477549678|\n",
            "+----+------------------+\n",
            "\n"
          ]
        }
      ]
    },
    {
      "cell_type": "code",
      "metadata": {
        "id": "u44Bk1up1GeU"
      },
      "source": [
        ""
      ],
      "execution_count": 46,
      "outputs": []
    }
  ]
}